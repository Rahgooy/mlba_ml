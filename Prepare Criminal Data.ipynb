{
 "cells": [
  {
   "cell_type": "code",
   "execution_count": 34,
   "metadata": {},
   "outputs": [],
   "source": [
    "import pandas as pd\n",
    "import numpy as np\n",
    "from pathlib import Path\n",
    "from sklearn.linear_model import LogisticRegression\n",
    "from sklearn.svm import SVC\n",
    "from sklearn.ensemble import RandomForestClassifier\n",
    "from sklearn.neural_network import MLPClassifier\n",
    "from sklearn import tree\n",
    "import matplotlib.pyplot as plt\n",
    "# import graphviz\n",
    "from sklearn.metrics import r2_score\n",
    "from io import StringIO"
   ]
  },
  {
   "cell_type": "code",
   "execution_count": 35,
   "metadata": {},
   "outputs": [],
   "source": [
    "def read_dir(path):\n",
    "    data = None\n",
    "    for f in Path(path).iterdir():\n",
    "        if f.is_file() and f.name.endswith('.txt'):\n",
    "            txt = [s for s in f.read_text().split('\\n')[4:-4] if s[0].isnumeric() or s.startswith('Sub')]\n",
    "            txt = StringIO('\\n'.join(txt))\n",
    "            if data is None:\n",
    "                data = pd.read_csv(txt, sep='\\t')\n",
    "            else:\n",
    "                data = data.append(pd.read_csv(txt, sep='\\t'))\n",
    "    return data"
   ]
  },
  {
   "cell_type": "code",
   "execution_count": 36,
   "metadata": {},
   "outputs": [],
   "source": [
    "features = ['A1', 'A2', 'B1', 'B2', 'Decoy1', 'Decoy2']"
   ]
  },
  {
   "cell_type": "markdown",
   "metadata": {},
   "source": [
    "## E3"
   ]
  },
  {
   "cell_type": "code",
   "execution_count": 37,
   "metadata": {
    "scrolled": true
   },
   "outputs": [],
   "source": [
    "experiments = ['a', 'b', 'c']\n",
    "data = None\n",
    "for exp in experiments:\n",
    "    d = read_dir(f'data/E3{exp}/')\n",
    "    d = d[~d.TrType.str.startswith('Fill')]\n",
    "    d.RT /= 1000\n",
    "    d[features] /= 10.0 \n",
    "    d.sort_values(by=['Sub', 'Trial'], inplace=True)  \n",
    "    d = d.rename(columns={'Decoy1': 'C1', 'Decoy2': 'C2', 'TrType': 'Effect', 'resp': 'response'})\n",
    "    d.to_csv(f'data/E3{exp}.csv', index=False)    \n",
    "    if data is None:\n",
    "        data = d\n",
    "    else:\n",
    "        data.append(d, sort=True)\n",
    "\n",
    "data.sort_values(by=['Sub', 'Trial'], inplace=True)\n",
    "data.to_csv('data/E3.csv', index=False)"
   ]
  },
  {
   "cell_type": "markdown",
   "metadata": {},
   "source": [
    "## E4"
   ]
  },
  {
   "cell_type": "code",
   "execution_count": 38,
   "metadata": {},
   "outputs": [],
   "source": [
    "data = read_dir('data/E4/')\n",
    "# data = data[data.blkNum > 0]\n",
    "data = data[~data.TrType.str.startswith('Fill')]\n",
    "# data = data[(data.RT > 100) & (data.RT < 8000)]\n",
    "# data = data[data.response > 0]\n",
    "data.RT /= 1000\n",
    "data[features] /= 10.0 \n",
    "data.sort_values(by=['Sub', 'Trial'], inplace=True)\n",
    "data = data.rename(columns={'Decoy1': 'C1', 'Decoy2': 'C2', 'TrType': 'Effect', 'resp': 'response'})\n",
    "data.to_csv('data/E4.csv', index=False)"
   ]
  },
  {
   "cell_type": "code",
   "execution_count": null,
   "metadata": {},
   "outputs": [],
   "source": []
  }
 ],
 "metadata": {
  "kernelspec": {
   "display_name": "Python 3",
   "language": "python",
   "name": "python3"
  },
  "language_info": {
   "codemirror_mode": {
    "name": "ipython",
    "version": 3
   },
   "file_extension": ".py",
   "mimetype": "text/x-python",
   "name": "python",
   "nbconvert_exporter": "python",
   "pygments_lexer": "ipython3",
   "version": "3.8.2-final"
  }
 },
 "nbformat": 4,
 "nbformat_minor": 2
}