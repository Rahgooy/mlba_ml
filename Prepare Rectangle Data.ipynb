{
 "cells": [
  {
   "cell_type": "code",
   "execution_count": 1,
   "metadata": {},
   "outputs": [],
   "source": [
    "import pandas as pd\n",
    "import numpy as np\n",
    "from pathlib import Path\n",
    "from sklearn.linear_model import LogisticRegression\n",
    "from sklearn.svm import SVC\n",
    "from sklearn.ensemble import RandomForestClassifier\n",
    "from sklearn.neural_network import MLPClassifier\n",
    "from sklearn import tree\n",
    "import matplotlib.pyplot as plt\n",
    "# import graphviz\n",
    "from sklearn.metrics import r2_score"
   ]
  },
  {
   "cell_type": "code",
   "execution_count": 2,
   "metadata": {},
   "outputs": [],
   "source": [
    "def read_dir(path):\n",
    "    data = None\n",
    "    for f in Path(path).iterdir():\n",
    "        if f.is_file() and f.name.endswith('.txt'):\n",
    "            if data is None:\n",
    "                data = pd.read_csv(f, skiprows=6, sep='\\t')\n",
    "            else:\n",
    "                data = data.append(pd.read_csv(f, skiprows=6, sep='\\t'))\n",
    "    return data"
   ]
  },
  {
   "cell_type": "code",
   "execution_count": 3,
   "metadata": {},
   "outputs": [],
   "source": [
    "features = ['Rect1Height', 'Rect1Width', 'Rect2Height', 'Rect2Width', 'Rect3Height', 'Rect3Width']\n",
    "rename = {'Rect1Height': 'A1', \n",
    "          'Rect1Width': 'A2', \n",
    "          'Rect2Height': 'B1', \n",
    "          'Rect2Width': 'B2', \n",
    "          'Rect3Height': 'C1',\n",
    "          'Rect3Width': 'C2'}"
   ]
  },
  {
   "cell_type": "markdown",
   "metadata": {},
   "source": [
    "## E1"
   ]
  },
  {
   "cell_type": "code",
   "execution_count": 4,
   "metadata": {
    "scrolled": true
   },
   "outputs": [],
   "source": [
    "experiments = ['a', 'b', 'c']\n",
    "data = None\n",
    "for exp in experiments:\n",
    "    d = read_dir(f'data/E1{exp}/')\n",
    "    d = d[d.blkNum > 0]\n",
    "    d = d[~d.Effect.str.startswith('Fill')]\n",
    "    d = d[d.RT < 7000]\n",
    "    d = d[d.response > 0]\n",
    "    d.RT /= 1000\n",
    "    d[features] = np.log(d[features])\n",
    "    d.sort_values(by=['username', 'blkNum', 'trlNum'], inplace=True)  \n",
    "    d = d.rename(columns=rename)\n",
    "    d.to_csv(f'data/E1{exp}.csv', index=False)    \n",
    "    if data is None:\n",
    "        data = d\n",
    "    else:\n",
    "        data.append(d, sort=True)\n",
    "\n",
    "data.sort_values(by=['username', 'blkNum', 'trlNum'], inplace=True)\n",
    "data.to_csv('data/E1.csv', index=False)"
   ]
  },
  {
   "cell_type": "markdown",
   "metadata": {},
   "source": [
    "## E2"
   ]
  },
  {
   "cell_type": "code",
   "execution_count": 5,
   "metadata": {},
   "outputs": [],
   "source": [
    "data = read_dir('data/E2/')\n",
    "data = data[data.blkNum > 0]\n",
    "data = data[~data.Effect.str.startswith('Fill')]\n",
    "data = data[(data.RT > 100) & (data.RT < 8000)]\n",
    "data = data[data.response > 0]\n",
    "data.RT /= 1000\n",
    "data[features] = np.log(data[features])\n",
    "data.sort_values(by=['username', 'blkNum', 'trlNum'], inplace=True)\n",
    "data = data.rename(columns=rename)\n",
    "data.to_csv('data/E2.csv', index=False)"
   ]
  },
  {
   "cell_type": "code",
   "execution_count": null,
   "metadata": {},
   "outputs": [],
   "source": []
  }
 ],
 "metadata": {
  "kernelspec": {
   "display_name": "Python 3",
   "language": "python",
   "name": "python3"
  },
  "language_info": {
   "codemirror_mode": {
    "name": "ipython",
    "version": 3
   },
   "file_extension": ".py",
   "mimetype": "text/x-python",
   "name": "python",
   "nbconvert_exporter": "python",
   "pygments_lexer": "ipython3",
   "version": "3.8.2-final"
  }
 },
 "nbformat": 4,
 "nbformat_minor": 2
}